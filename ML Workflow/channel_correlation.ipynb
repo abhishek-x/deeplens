{
 "cells": [
  {
   "cell_type": "code",
   "execution_count": 14,
   "metadata": {},
   "outputs": [],
   "source": [
    "import numpy as np\n",
    "import os\n",
    "import random\n",
    "import cv2"
   ]
  },
  {
   "cell_type": "code",
   "execution_count": 5,
   "metadata": {},
   "outputs": [],
   "source": [
    "image=np.load(r'E:\\FF++\\out_real_npy\\001_1.npy')"
   ]
  },
  {
   "cell_type": "code",
   "execution_count": 29,
   "metadata": {},
   "outputs": [],
   "source": [
    "sample_size = 50\n",
    "\n",
    "fake_images = os.listdir('out_fake_npy')\n",
    "sampled_fake_images = random.sample(fake_images, sample_size)\n",
    "\n",
    "real_images = os.listdir('out_real_npy')\n",
    "sampled_real_images = random.sample(real_images, sample_size)\n",
    "\n",
    "sample_images=sampled_fake_images+sampled_real_images"
   ]
  },
  {
   "cell_type": "code",
   "execution_count": 30,
   "metadata": {},
   "outputs": [
    {
     "data": {
      "text/plain": [
       "100"
      ]
     },
     "execution_count": 30,
     "metadata": {},
     "output_type": "execute_result"
    }
   ],
   "source": [
    "len(sample_images)"
   ]
  },
  {
   "cell_type": "code",
   "execution_count": null,
   "metadata": {},
   "outputs": [],
   "source": [
    "correlation_matrices = np.zeros((100, 5, 5))\n",
    "c=0\n",
    "for i in sample_images:\n",
    "    if(c<50):\n",
    "        path='E:/FF++/out_real_npy/'+str(i)\n",
    "    else:\n",
    "        path='E:/FF++/out_fake_npy/'+str(i)\n",
    "    img=np.load(path)\n",
    "    for j in range(num_channels):\n",
    "        for k in range(num_channels):\n",
    "            if j != k:\n",
    "                correlation = np.corrcoef(img[:, :, j].ravel(), img[:, :, k].ravel())[0, 1]\n",
    "                correlation_matrices[c, j, k] = correlation\n",
    "    c+=1\n",
    "print(correlation_matrices)"
   ]
  },
  {
   "cell_type": "code",
   "execution_count": 44,
   "metadata": {},
   "outputs": [
    {
     "data": {
      "text/plain": [
       "array([[0.        , 0.96179138, 0.91050248, 0.95994653, 0.91846267],\n",
       "       [0.96179138, 0.        , 0.96007182, 0.99566872, 0.96165902],\n",
       "       [0.91050248, 0.96007182, 0.        , 0.9804025 , 0.99686781],\n",
       "       [0.95994653, 0.99566872, 0.9804025 , 0.        , 0.98108765],\n",
       "       [0.91846267, 0.96165902, 0.99686781, 0.98108765, 0.        ]])"
      ]
     },
     "execution_count": 44,
     "metadata": {},
     "output_type": "execute_result"
    }
   ],
   "source": [
    "average_correlation = np.mean(correlation_matrices, axis=0)\n",
    "average_correlation"
   ]
  },
  {
   "cell_type": "code",
   "execution_count": 45,
   "metadata": {},
   "outputs": [
    {
     "data": {
      "text/plain": [
       "(2, 4)"
      ]
     },
     "execution_count": 45,
     "metadata": {},
     "output_type": "execute_result"
    }
   ],
   "source": [
    "channels_to_remove = np.unravel_index(np.argmax(average_correlation), average_correlation.shape)\n",
    "channels_to_remove"
   ]
  },
  {
   "cell_type": "code",
   "execution_count": 56,
   "metadata": {},
   "outputs": [
    {
     "name": "stdout",
     "output_type": "stream",
     "text": [
      "Channel - Most Correlated Channel\n",
      "Channel 3 - Channel 5 - Correlation Value: 0.9969\n",
      "Channel 5 - Channel 3 - Correlation Value: 0.9969\n",
      "Channel 2 - Channel 4 - Correlation Value: 0.9957\n",
      "Channel 4 - Channel 2 - Correlation Value: 0.9957\n",
      "Channel 1 - Channel 2 - Correlation Value: 0.9618\n"
     ]
    }
   ],
   "source": [
    "import numpy as np\n",
    "\n",
    "correlation_matrix = average_correlation\n",
    "\n",
    "most_correlated_channels={}\n",
    "for i in range(correlation_matrix.shape[0]):\n",
    "    max_corr = -1\n",
    "    max_corr_channel = -1\n",
    "    for j in range(correlation_matrix.shape[1]):\n",
    "        if i != j and correlation_matrix[i, j] > max_corr:\n",
    "            max_corr = correlation_matrix[i, j]\n",
    "            max_corr_channel = j\n",
    "    most_correlated_channels[i]=(max_corr_channel,max_corr)\n",
    "\n",
    "most_correlated_channels = dict(sorted(most_correlated_channels.items(), key=lambda item: item[1][1],reverse=True))\n",
    "\n",
    "print(\"Channel - Most Correlated Channel\")\n",
    "for i, (channel,correlation) in most_correlated_channels.items():\n",
    "    print(f\"Channel {i+1} - Channel {channel+1} - Correlation Value: {correlation:.4f}\")"
   ]
  },
  {
   "cell_type": "code",
   "execution_count": null,
   "metadata": {},
   "outputs": [],
   "source": []
  }
 ],
 "metadata": {
  "kernelspec": {
   "display_name": "Python 3",
   "language": "python",
   "name": "python3"
  },
  "language_info": {
   "codemirror_mode": {
    "name": "ipython",
    "version": 3
   },
   "file_extension": ".py",
   "mimetype": "text/x-python",
   "name": "python",
   "nbconvert_exporter": "python",
   "pygments_lexer": "ipython3",
   "version": "3.9.6"
  }
 },
 "nbformat": 4,
 "nbformat_minor": 2
}
