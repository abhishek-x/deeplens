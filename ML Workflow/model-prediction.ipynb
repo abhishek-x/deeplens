{
 "cells": [
  {
   "cell_type": "code",
   "execution_count": 1,
   "metadata": {},
   "outputs": [],
   "source": [
    "import os\n",
    "import numpy as np\n",
    "from utils import get_ppgs\n",
    "from keras.optimizers import Adam\n",
    "from keras.models import load_model\n",
    "from collections import Counter"
   ]
  },
  {
   "cell_type": "code",
   "execution_count": 2,
   "metadata": {},
   "outputs": [
    {
     "name": "stderr",
     "output_type": "stream",
     "text": [
      "WARNING:absl:At this time, the v2.11+ optimizer `tf.keras.optimizers.Adam` runs slowly on M1/M2 Macs, please use the legacy Keras optimizer instead, located at `tf.keras.optimizers.legacy.Adam`.\n",
      "2023-12-10 00:25:15.819119: I metal_plugin/src/device/metal_device.cc:1154] Metal device set to: Apple M2 Pro\n",
      "2023-12-10 00:25:15.819137: I metal_plugin/src/device/metal_device.cc:296] systemMemory: 16.00 GB\n",
      "2023-12-10 00:25:15.819142: I metal_plugin/src/device/metal_device.cc:313] maxCacheSize: 5.33 GB\n",
      "2023-12-10 00:25:15.819176: I tensorflow/core/common_runtime/pluggable_device/pluggable_device_factory.cc:306] Could not identify NUMA node of platform GPU ID 0, defaulting to 0. Your kernel may not have been built with NUMA support.\n",
      "2023-12-10 00:25:15.819192: I tensorflow/core/common_runtime/pluggable_device/pluggable_device_factory.cc:272] Created TensorFlow device (/job:localhost/replica:0/task:0/device:GPU:0 with 0 MB memory) -> physical PluggableDevice (device: 0, name: METAL, pci bus id: <undefined>)\n"
     ]
    }
   ],
   "source": [
    "custom_optimizer = Adam(learning_rate=0.0005)\n",
    "model=load_model(r\"models/model.h5\",compile=False)\n",
    "model.compile(optimizer=custom_optimizer, loss='binary_crossentropy',metrics=['accuracy'])"
   ]
  },
  {
   "cell_type": "markdown",
   "metadata": {},
   "source": [
    "# Manipulated Video"
   ]
  },
  {
   "cell_type": "code",
   "execution_count": 3,
   "metadata": {},
   "outputs": [
    {
     "name": "stdout",
     "output_type": "stream",
     "text": [
      "1/1 [==============================] - 0s 102ms/step\n",
      "1/1 [==============================] - 0s 12ms/step\n",
      "2.1071374e-16 [0, 0]\n",
      "Prediction from our model: Manipulated\n"
     ]
    },
    {
     "name": "stderr",
     "output_type": "stream",
     "text": [
      "2023-12-10 00:25:33.008088: I tensorflow/core/grappler/optimizers/custom_graph_optimizer_registry.cc:117] Plugin optimizer for device_type GPU is enabled.\n"
     ]
    }
   ],
   "source": [
    "ppgs_for_video=get_ppgs(r\"./datasets/face-forensics++/c23/manipulated_sequences/Deepfakes/c23/videos/984_967.mp4\")\n",
    "segment_predictions=[]\n",
    "for k in ppgs_for_video:\n",
    "    k=k/255.0\n",
    "    batch_of_images = np.array([k] * 32)\n",
    "    predictions=model.predict([batch_of_images])\n",
    "    print(predictions[0][0],end=\" \")\n",
    "    if(predictions[0][0]>0.5):\n",
    "        pc=1\n",
    "    else:\n",
    "        pc=0\n",
    "    segment_predictions.append(pc)\n",
    "print(segment_predictions)\n",
    "if(Counter(segment_predictions)[0]>=Counter(segment_predictions)[1]):\n",
    "    vid_prediction=\"Manipulated\"\n",
    "else:\n",
    "    vid_prediction=\"Original\"\n",
    "\n",
    "print(\"Prediction from our model:\", vid_prediction)"
   ]
  },
  {
   "cell_type": "markdown",
   "metadata": {},
   "source": [
    "# Original Video"
   ]
  },
  {
   "cell_type": "code",
   "execution_count": 4,
   "metadata": {},
   "outputs": [
    {
     "name": "stdout",
     "output_type": "stream",
     "text": [
      "1/1 [==============================] - 0s 12ms/step\n",
      "1/1 [==============================] - 0s 11ms/step\n",
      "0.999395 [1, 1]\n",
      "Prediction from our model: Original\n"
     ]
    }
   ],
   "source": [
    "ppgs_for_video=get_ppgs(r\"./datasets/face-forensics++/c23/original_sequences/youtube/c23/videos/984.mp4\")\n",
    "segment_predictions=[]\n",
    "for k in ppgs_for_video:\n",
    "    k=k/255.0\n",
    "    batch_of_images = np.array([k] * 32)\n",
    "    predictions=model.predict([batch_of_images])\n",
    "    print(predictions[0][0],end=\" \")\n",
    "    if(predictions[0][0]>0.5):\n",
    "        pc=1\n",
    "    else:\n",
    "        pc=0\n",
    "    segment_predictions.append(pc)\n",
    "print(segment_predictions)\n",
    "if(Counter(segment_predictions)[0]>=Counter(segment_predictions)[1]):\n",
    "    vid_prediction=\"Manipulated\"\n",
    "else:\n",
    "    vid_prediction=\"Original\"\n",
    "\n",
    "print(\"Prediction from our model:\", vid_prediction)"
   ]
  }
 ],
 "metadata": {
  "kernelspec": {
   "display_name": "Python 3",
   "language": "python",
   "name": "python3"
  },
  "language_info": {
   "codemirror_mode": {
    "name": "ipython",
    "version": 3
   },
   "file_extension": ".py",
   "mimetype": "text/x-python",
   "name": "python",
   "nbconvert_exporter": "python",
   "pygments_lexer": "ipython3",
   "version": "3.9.6"
  }
 },
 "nbformat": 4,
 "nbformat_minor": 2
}
